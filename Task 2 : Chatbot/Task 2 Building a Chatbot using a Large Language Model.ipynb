{
 "cells": [
  {
   "cell_type": "markdown",
   "id": "df74023f",
   "metadata": {},
   "source": [
    "## Objective\n",
    "* To build an AI-powered chatbot that answers user queries about Changi Airport and Jewel Changi Airport by scraping their website content, embedding the information, and retrieving it using a vector database."
   ]
  },
  {
   "cell_type": "markdown",
   "id": "456b1067",
   "metadata": {},
   "source": [
    "## Goal\n",
    "* Extract and process relevant content from the official websites.\n",
    "* Store content embeddings in a Pinecone vector database for efficient retrieval.\n",
    "* Develop an interactive chatbot using LangChain and OpenAI GPT to provide accurate responses to user queries. "
   ]
  },
  {
   "cell_type": "code",
   "execution_count": null,
   "id": "39306162",
   "metadata": {},
   "outputs": [],
   "source": [
    "# Install if neccessary \n",
    "'''\n",
    "!pip install langchain-openai\n",
    "!pip install openai\n",
    "!pip install tiktoken\n",
    "!pip install pinecone-client\n",
    "!pip install beautifulsoup4 requests\n",
    "!pip install -U langchain-community\n",
    "!pip install langchain-openai pinecone-client streamlit'''"
   ]
  },
  {
   "cell_type": "code",
   "execution_count": null,
   "id": "3431f86c",
   "metadata": {},
   "outputs": [],
   "source": [
    "# Imports libraries\n",
    "import os\n",
    "import requests\n",
    "from bs4 import BeautifulSoup\n",
    "from langchain_openai import OpenAIEmbeddings, ChatOpenAI\n",
    "from langchain_community.vectorstores import Pinecone\n",
    "from langchain.prompts import ChatPromptTemplate\n",
    "from langchain.chains import RetrievalQA\n",
    "import pinecone"
   ]
  },
  {
   "cell_type": "code",
   "execution_count": null,
   "id": "7530a88c",
   "metadata": {},
   "outputs": [],
   "source": [
    "# 1. Set API Keys\n",
    "os.environ[\"OPENAI_API_KEY\"] = \"Enter your API key\"  # Replace with your OpenAI API Key\n",
    "PINECONE_API_KEY = \"\"                                # Replace with your Pinecone API Key\n",
    "PINECONE_ENVIRONMENT = \"us-west1-gcp\"                # Replace with your Pinecone Environment"
   ]
  },
  {
   "cell_type": "code",
   "execution_count": null,
   "id": "0ea014b5",
   "metadata": {},
   "outputs": [],
   "source": [
    "# 2. Scrape Website Content\n",
    "def scrape_website(url):\n",
    "    response = requests.get(url)\n",
    "    if response.status_code == 200:\n",
    "        soup = BeautifulSoup(response.text, \"html.parser\")\n",
    "        return \" \".join([p.text for p in soup.find_all(\"p\")])  # Extract text from <p> tags\n",
    "    else:\n",
    "        print(f\"Failed to retrieve {url}\")\n",
    "        return \"\"\n",
    "\n",
    "# URLs to scrape\n",
    "changi_airport_url = \"https://www.changiairport.com/en.html\"\n",
    "jewel_changi_url = \"https://www.jewelchangiairport.com/\"\n",
    "\n",
    "# Scrape content\n",
    "print(\"Scraping content...\")\n",
    "changi_content = scrape_website(changi_airport_url)\n",
    "jewel_content = scrape_website(jewel_changi_url)\n",
    "combined_content = changi_content + jewel_content\n",
    "print(\"Scraping completed!\")"
   ]
  },
  {
   "cell_type": "code",
   "execution_count": null,
   "id": "1f81aa84",
   "metadata": {},
   "outputs": [],
   "source": [
    "# 3. Embed Content and Store in Pinecone\n",
    "print(\"Initializing Pinecone...\")\n",
    "pinecone.init(api_key=PINECONE_API_KEY, environment=PINECONE_ENVIRONMENT)\n",
    "\n",
    "index_name = \"changi-airport-chatbot\"\n",
    "if index_name not in pinecone.list_indexes():\n",
    "    pinecone.create_index(index_name, dimension=1536)  # OpenAI embeddings dimension\n",
    "\n",
    "# Load OpenAI Embeddings\n",
    "embeddings = OpenAIEmbeddings()\n",
    "\n",
    "# Connect to Pinecone Vector Store\n",
    "vector_store = Pinecone(index_name, embeddings)\n",
    "\n",
    "# Split content into chunks (LangChain text splitter)\n",
    "from langchain.text_splitter import RecursiveCharacterTextSplitter\n",
    "\n",
    "text_splitter = RecursiveCharacterTextSplitter(chunk_size=500, chunk_overlap=50)\n",
    "texts = text_splitter.split_text(combined_content)\n",
    "\n",
    "# Add text chunks to Pinecone\n",
    "print(\"Adding embeddings to Pinecone...\")\n",
    "vector_store.add_texts(texts)\n",
    "print(\"Embeddings added successfully!\")"
   ]
  },
  {
   "cell_type": "code",
   "execution_count": null,
   "id": "66d4bc29",
   "metadata": {},
   "outputs": [],
   "source": [
    "# 4. Create the Chatbot (LangChain RetrievalQA)\n",
    "print(\"Initializing the chatbot...\")\n",
    "llm = ChatOpenAI(model=\"gpt-3.5-turbo\")\n",
    "\n",
    "# Prompt Template\n",
    "prompt = ChatPromptTemplate.from_messages([\n",
    "    (\"system\", \"You are a helpful chatbot. Use the Changi Airport and Jewel Changi Airport data to answer queries.\"),\n",
    "    (\"user\", \"Question: {question}\")\n",
    "])\n",
    "\n",
    "# Retrieval QA Chain\n",
    "qa_chain = RetrievalQA.from_chain_type(\n",
    "    llm=llm,\n",
    "    retriever=vector_store.as_retriever(),\n",
    "    chain_type_kwargs={\"prompt\": prompt}\n",
    ")"
   ]
  },
  {
   "cell_type": "code",
   "execution_count": null,
   "id": "9ac2c762",
   "metadata": {},
   "outputs": [],
   "source": [
    "# 5. Query the Chatbot\n",
    "while True:\n",
    "    query = input(\"\\nAsk me a question (or type 'exit' to quit): \")\n",
    "    if query.lower() == \"exit\":\n",
    "        print(\"Goodbye!\")\n",
    "        break\n",
    "    response = qa_chain.run(query)\n",
    "    print(\"\\nResponse:\", response)"
   ]
  },
  {
   "cell_type": "markdown",
   "id": "20fba682",
   "metadata": {},
   "source": [
    "## Result\n",
    "* Successfully created an AI chatbot capable of answering questions related to Changi Airport and Jewel Changi Airport.\n",
    "* Content from both websites is embedded, stored, and retrieved effectively using Pinecone.\n",
    "* Users can interact with the chatbot in a user-friendly way to get instant and accurate responses. "
   ]
  },
  {
   "cell_type": "markdown",
   "id": "f80e3388",
   "metadata": {},
   "source": [
    "## Description\n",
    "* The Changi Airport Chatbot project combines web scraping, vector embeddings, and retrieval-augmented generation to build an intelligent Q&A system:\n",
    "\n",
    "1. Content Scraping: Data is extracted from the Changi Airport and Jewel Changi websites using BeautifulSoup.\n",
    "2. Text Processing: Content is split into smaller chunks for embedding using OpenAI's text-embedding-ada-002.\n",
    "3. Pinecone Vector Database: The embeddings are stored in Pinecone for quick and relevant retrieval.\n",
    "4. LangChain Integration: LangChain's RetrievalQA is used to query the vector database and generate responses via GPT-3.5-turbo.\n",
    "5. Interactive Chat: A simple command-line interface allows users to ask questions, retrieve data, and get relevant answers. "
   ]
  },
  {
   "cell_type": "markdown",
   "id": "930af978",
   "metadata": {},
   "source": [
    "## About the Project\n",
    "The Changi Airport Chatbot is a proof-of-concept AI system that enhances user experience by providing detailed information about one of the world's busiest airports, Changi Airport, and its attractions like Jewel Changi Airport. The project uses modern AI tools such as LangChain, OpenAI GPT, and Pinecone to deliver quick, reliable, and accurate information.\n",
    "\n",
    "This chatbot showcases:\n",
    "\n",
    "* Integration of web scraping for content gathering.\n",
    "* Use of embeddings and a vector database for efficient search and retrieval.\n",
    "* AI-powered responses using GPT for natural language understanding and generation. "
   ]
  }
 ],
 "metadata": {
  "kernelspec": {
   "display_name": "Python 3 (ipykernel)",
   "language": "python",
   "name": "python3"
  },
  "language_info": {
   "codemirror_mode": {
    "name": "ipython",
    "version": 3
   },
   "file_extension": ".py",
   "mimetype": "text/x-python",
   "name": "python",
   "nbconvert_exporter": "python",
   "pygments_lexer": "ipython3",
   "version": "3.11.5"
  }
 },
 "nbformat": 4,
 "nbformat_minor": 5
}
