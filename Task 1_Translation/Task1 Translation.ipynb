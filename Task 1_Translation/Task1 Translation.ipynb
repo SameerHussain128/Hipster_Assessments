{
 "cells": [
  {
   "cell_type": "markdown",
   "id": "6784a7e0",
   "metadata": {},
   "source": [
    "## Objective\n",
    "The primary objective of this project is to build a dynamic translation system using MarianMT, a pre-trained translation model from Hugging Face. The program allows users to translate text between multiple languages while supporting cultural nuances and idiomatic expressions."
   ]
  },
  {
   "cell_type": "markdown",
   "id": "5b789623",
   "metadata": {},
   "source": [
    "## Goal\n",
    "1. User-Friendly Translation: Enable seamless text translation for users through an interactive interface.\n",
    "2. Multi-Language Support: Allow translations between various language pairs using MarianMT models.\n",
    "3. Scalability: Provide a base for deploying this functionality on platforms like a web interface or REST API.\n",
    "4. Cultural Awareness: Lay the groundwork for fine-tuning translation models to handle cultural idioms and nuanced expressions accurately. "
   ]
  },
  {
   "cell_type": "code",
   "execution_count": 2,
   "id": "3821b454",
   "metadata": {},
   "outputs": [
    {
     "name": "stdout",
     "output_type": "stream",
     "text": [
      "Welcome to the MarianMT Translation Program!\n",
      "Enter 'exit' to quit the program.\n",
      "\n",
      "Enter the text to translate: ky krre ho\n",
      "Enter the source language code (e.g., en, fr, hi): en\n",
      "Enter the target language code (e.g., en, fr, hi): hi\n"
     ]
    },
    {
     "name": "stderr",
     "output_type": "stream",
     "text": [
      "C:\\Users\\SAMEER\\AppData\\Roaming\\Python\\Python311\\site-packages\\transformers\\models\\marian\\tokenization_marian.py:175: UserWarning: Recommended: pip install sacremoses.\n",
      "  warnings.warn(\"Recommended: pip install sacremoses.\")\n"
     ]
    },
    {
     "name": "stdout",
     "output_type": "stream",
     "text": [
      "Translated Text: केरेआर हो\n",
      "\n",
      "Enter the text to translate: exit\n",
      "Exiting the translation program. Goodbye!\n"
     ]
    }
   ],
   "source": [
    "from transformers import MarianMTModel, MarianTokenizer\n",
    "\n",
    "# Function to translate text using MarianMT\n",
    "def translate_text_marian(text, src_lang, dest_lang):\n",
    "    try:\n",
    "        model_name = f'Helsinki-NLP/opus-mt-{src_lang}-{dest_lang}'\n",
    "        tokenizer = MarianTokenizer.from_pretrained(model_name)\n",
    "        model = MarianMTModel.from_pretrained(model_name)\n",
    "\n",
    "        # Tokenize the input text\n",
    "        inputs = tokenizer(text, return_tensors=\"pt\", padding=True)\n",
    "\n",
    "        # Perform the translation\n",
    "        translated = model.generate(**inputs)\n",
    "        translated_text = tokenizer.decode(translated[0], skip_special_tokens=True)\n",
    "        \n",
    "        return translated_text\n",
    "    except Exception as e:\n",
    "        return f\"Error: {str(e)}\"\n",
    "\n",
    "# Main function for dynamic user input\n",
    "def main():\n",
    "    print(\"Welcome to the MarianMT Translation Program!\")\n",
    "    print(\"Enter 'exit' to quit the program.\\n\")\n",
    "\n",
    "    while True:\n",
    "        # Get user input for text, source language, and target language\n",
    "        text = input(\"Enter the text to translate: \")\n",
    "        if text.lower() == \"exit\":\n",
    "            print(\"Exiting the translation program. Goodbye!\")\n",
    "            break\n",
    "\n",
    "        src_lang = input(\"Enter the source language code (e.g., en, fr, hi): \")\n",
    "        dest_lang = input(\"Enter the target language code (e.g., en, fr, hi): \")\n",
    "\n",
    "        # Translate the text\n",
    "        translated = translate_text_marian(text, src_lang, dest_lang)\n",
    "        print(f\"Translated Text: {translated}\\n\")\n",
    "\n",
    "if __name__ == \"__main__\":\n",
    "    main()"
   ]
  },
  {
   "cell_type": "markdown",
   "id": "c1ab4ee8",
   "metadata": {},
   "source": [
    "## Project Description\n",
    "\n",
    "1. Components:\n",
    "* Model: The MarianMT model from Hugging Face (Helsinki-NLP) is used for language-specific translation tasks.\n",
    "* Tokenizer: Prepares input text for the model by encoding it into tokenized sequences.\n",
    "* Dynamic User Input: Users provide the text, source language, and target language, enabling flexible translations.\n",
    "* Error Handling: Detects and handles unsupported language pairs or other issues gracefully.\n",
    "\n",
    "2. Implementation Workflow:\n",
    "* Users enter the text to translate.\n",
    "* The program identifies the source and target languages based on user input.\n",
    "* MarianMT translates the text using the appropriate pre-trained model.\n",
    "* The translated text is displayed to the user.\n",
    "\n",
    "3. Technologies Used:\n",
    "* Hugging Face Transformers: Provides access to MarianMT models and tokenizers.\n",
    "* Python: Programming language used for scripting and handling user interactions."
   ]
  },
  {
   "cell_type": "markdown",
   "id": "d8808ce8",
   "metadata": {},
   "source": [
    "## Results\n",
    "\n",
    "1. Successful Text Translations: Achieved accurate translations for supported language pairs like:\n",
    "* Hindi to English\n",
    "* English to French\n",
    "* French to English\n",
    "* Spanish to English\n",
    "\n",
    "2. User-Centric Design: Interactive console-based interface allows users to experiment with translations easily.\n",
    "\n",
    "3. Scalability Potential:\n",
    "\n",
    "* The program can be extended into a REST API or web app using frameworks like Flask or Streamlit.\n",
    "* Fine-tuning MarianMT on domain-specific datasets (e.g., cultural idioms) can improve translation accuracy."
   ]
  }
 ],
 "metadata": {
  "kernelspec": {
   "display_name": "Python 3 (ipykernel)",
   "language": "python",
   "name": "python3"
  },
  "language_info": {
   "codemirror_mode": {
    "name": "ipython",
    "version": 3
   },
   "file_extension": ".py",
   "mimetype": "text/x-python",
   "name": "python",
   "nbconvert_exporter": "python",
   "pygments_lexer": "ipython3",
   "version": "3.11.5"
  }
 },
 "nbformat": 4,
 "nbformat_minor": 5
}
